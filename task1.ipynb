{
 "cells": [
  {
   "cell_type": "code",
   "execution_count": null,
   "id": "caf90087",
   "metadata": {},
   "outputs": [],
   "source": [
    "msg=\"###!!@mocleW EPGTQ!!!6789\""
   ]
  },
  {
   "cell_type": "code",
   "execution_count": 7,
   "id": "df4ed74b",
   "metadata": {},
   "outputs": [
    {
     "data": {
      "text/plain": [
       "'mocleW EPGTQ'"
      ]
     },
     "execution_count": 7,
     "metadata": {},
     "output_type": "execute_result"
    }
   ],
   "source": [
    "extract=msg.split(\"@\")[1].split(\"!\")[0]\n",
    "extract"
   ]
  },
  {
   "cell_type": "code",
   "execution_count": 10,
   "id": "cedb35c7",
   "metadata": {},
   "outputs": [
    {
     "data": {
      "text/plain": [
       "['EPGTQ', 'mocleW']"
      ]
     },
     "execution_count": 10,
     "metadata": {},
     "output_type": "execute_result"
    }
   ],
   "source": [
    "wrd=extract.split()\n",
    "wrd=wrd[::-1]\n",
    "wrd"
   ]
  },
  {
   "cell_type": "code",
   "execution_count": null,
   "id": "42217b05",
   "metadata": {},
   "outputs": [],
   "source": []
  }
 ],
 "metadata": {
  "kernelspec": {
   "display_name": "Python 3",
   "language": "python",
   "name": "python3"
  },
  "language_info": {
   "codemirror_mode": {
    "name": "ipython",
    "version": 3
   },
   "file_extension": ".py",
   "mimetype": "text/x-python",
   "name": "python",
   "nbconvert_exporter": "python",
   "pygments_lexer": "ipython3",
   "version": "3.11.9"
  }
 },
 "nbformat": 4,
 "nbformat_minor": 5
}
